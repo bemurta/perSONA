{
 "cells": [
  {
   "cell_type": "markdown",
   "metadata": {},
   "source": [
    "# VA scene controller\n",
    "This is a simple example and utility notebook that demonstrates the use of scene control mechanisms."
   ]
  },
  {
   "cell_type": "markdown",
   "metadata": {},
   "source": [
    "### Prerequisites\n",
    "You can ignore this part, it is for preparation purposes only."
   ]
  },
  {
   "cell_type": "code",
   "execution_count": 2,
   "metadata": {},
   "outputs": [],
   "source": [
    "import sys\n",
    "sys.path.append( '../../Lib/site-packages' )\n",
    "sys.path.append( '../../dist/Lib/site-packages' )\n",
    "import ipywidgets as widgets\n",
    "import va\n",
    "if not va.connect() :\n",
    "    raise 'Could not connect to VA server on localhost'"
   ]
  },
  {
   "cell_type": "markdown",
   "metadata": {
    "collapsed": true
   },
   "source": [
    "### Sound receiver"
   ]
  },
  {
   "cell_type": "code",
   "execution_count": 10,
   "metadata": {},
   "outputs": [
    {
     "data": {
      "application/vnd.jupyter.widget-view+json": {
       "model_id": "135d0b36212d403daa184db0af632bbb",
       "version_major": 2,
       "version_minor": 0
      },
      "text/html": [
       "<p>Failed to display Jupyter Widget of type <code>HBox</code>.</p>\n",
       "<p>\n",
       "  If you're reading this message in the Jupyter Notebook or JupyterLab Notebook, it may mean\n",
       "  that the widgets JavaScript is still loading. If this message persists, it\n",
       "  likely means that the widgets JavaScript library is either not installed or\n",
       "  not enabled. See the <a href=\"https://ipywidgets.readthedocs.io/en/stable/user_install.html\">Jupyter\n",
       "  Widgets Documentation</a> for setup instructions.\n",
       "</p>\n",
       "<p>\n",
       "  If you're reading this message in another frontend (for example, a static\n",
       "  rendering on GitHub or <a href=\"https://nbviewer.jupyter.org/\">NBViewer</a>),\n",
       "  it may mean that your frontend doesn't currently support widgets.\n",
       "</p>\n"
      ],
      "text/plain": [
       "HBox(children=(Dropdown(description='Sound receivers', options={'Bernardo': 1}, value=1), FloatText(value=0.0, description='X'), FloatText(value=0.0, description='Y'), FloatText(value=0.0, description='Z'), Button(description='Update', style=ButtonStyle())))"
      ]
     },
     "metadata": {},
     "output_type": "display_data"
    }
   ],
   "source": [
    "sound_receiver_ids = va.get_sound_receiver_ids()\n",
    "sound_receivers_dict = {}\n",
    "for sound_receiver_id in sound_receiver_ids :\n",
    "    sound_receivers_dict.update( { va.get_sound_receiver_name( sound_receiver_id ) : sound_receiver_id } )\n",
    "\n",
    "sound_receivers_dropdown_menu = widgets.Dropdown( \n",
    "    options = sound_receivers_dict,\n",
    "    description = 'Sound receivers' )\n",
    "if sound_receiver_ids :\n",
    "    first_sound_receiver_pos = va.get_sound_receiver_position( sound_receiver_ids[ 0 ] )\n",
    "\n",
    "def on_sound_receiver_update( w ) :\n",
    "    sound_receiver_id = sound_receivers_dropdown_menu.value\n",
    "    if sound_receiver_id :\n",
    "        sound_receiver_pos = [ sound_receivers_input_pos_x.value,  sound_receivers_input_pos_y.value,  sound_receivers_input_pos_z.value ]\n",
    "        va.set_sound_receiver_position( sound_receiver_id, sound_receiver_pos )\n",
    "\n",
    "sound_receivers_input_pos_x = widgets.FloatText( description = 'X' )\n",
    "sound_receivers_input_pos_y = widgets.FloatText( description = 'Y' )\n",
    "sound_receivers_input_pos_z = widgets.FloatText( description = 'Z' )\n",
    "\n",
    "sound_receiver_update_button = widgets.Button( description = 'Update' )\n",
    "sound_receiver_update_button.on_click( on_sound_receiver_update )\n",
    "\n",
    "def on_sound_receiver_select( d ) :\n",
    "    if d.type == 'change' and type( d.new ) is str :\n",
    "        sound_receiver_id = sound_receivers_dropdown_menu.options[ d.new ]        \n",
    "        sound_receiver_pos = va.get_sound_receiver_position( sound_receiver_id )\n",
    "        sound_receivers_input_pos_x.value = sound_receiver_pos[ 0 ]\n",
    "        sound_receivers_input_pos_y.value = sound_receiver_pos[ 1 ]\n",
    "        sound_receivers_input_pos_z.value = sound_receiver_pos[ 2 ]\n",
    "        \n",
    "sound_receivers_dropdown_menu.observe( on_sound_receiver_select )\n",
    "\n",
    "sound_receivers_input_widget_box = widgets.HBox( [ sound_receivers_dropdown_menu, sound_receivers_input_pos_x, sound_receivers_input_pos_y, sound_receivers_input_pos_z, sound_receiver_update_button ] )\n",
    "display( sound_receivers_input_widget_box )"
   ]
  },
  {
   "cell_type": "markdown",
   "metadata": {
    "collapsed": true
   },
   "source": [
    "### Sources"
   ]
  },
  {
   "cell_type": "code",
   "execution_count": 11,
   "metadata": {},
   "outputs": [
    {
     "data": {
      "application/vnd.jupyter.widget-view+json": {
       "model_id": "a286b914b8dd4db8a2f5fba1b4419359",
       "version_major": 2,
       "version_minor": 0
      },
      "text/html": [
       "<p>Failed to display Jupyter Widget of type <code>HBox</code>.</p>\n",
       "<p>\n",
       "  If you're reading this message in the Jupyter Notebook or JupyterLab Notebook, it may mean\n",
       "  that the widgets JavaScript is still loading. If this message persists, it\n",
       "  likely means that the widgets JavaScript library is either not installed or\n",
       "  not enabled. See the <a href=\"https://ipywidgets.readthedocs.io/en/stable/user_install.html\">Jupyter\n",
       "  Widgets Documentation</a> for setup instructions.\n",
       "</p>\n",
       "<p>\n",
       "  If you're reading this message in another frontend (for example, a static\n",
       "  rendering on GitHub or <a href=\"https://nbviewer.jupyter.org/\">NBViewer</a>),\n",
       "  it may mean that your frontend doesn't currently support widgets.\n",
       "</p>\n"
      ],
      "text/plain": [
       "HBox(children=(Dropdown(description='Sound sources', options={'PySoundSource': 11, 'Ambulance Moving': 14, 'Ambulance Static': 15}, value=11), FloatText(value=0.0, description='X'), FloatText(value=0.0, description='Y'), FloatText(value=0.0, description='Z'), Button(description='Update', style=ButtonStyle())))"
      ]
     },
     "metadata": {},
     "output_type": "display_data"
    }
   ],
   "source": [
    "sound_source_ids = va.get_sound_source_ids()\n",
    "sound_sources_dict = {}\n",
    "for source_id in sound_source_ids :\n",
    "    sound_sources_dict.update( { va.get_sound_source_name( source_id ) : source_id } )\n",
    "\n",
    "sound_sources_dropdown_menu = widgets.Dropdown( \n",
    "    options = sound_sources_dict,\n",
    "    description = 'Sound sources' )\n",
    "if sound_source_ids :\n",
    "    first_sound_source_pos = va.get_sound_source_position( sound_source_ids[ 0 ] )\n",
    "\n",
    "def on_sound_source_update( w ) :\n",
    "    sound_source_id = sound_sources_dropdown_menu.value\n",
    "    if sound_source_id :\n",
    "        sound_source_pos = [ sound_source_input_pos_x.value,  sound_source_input_pos_y.value,  sound_source_input_pos_z.value ]\n",
    "        va.set_sound_source_position( sound_source_id, sound_source_pos )\n",
    "\n",
    "sound_source_input_pos_x = widgets.FloatText( description = 'X' )\n",
    "sound_source_input_pos_y = widgets.FloatText( description = 'Y' )\n",
    "sound_source_input_pos_z = widgets.FloatText( description = 'Z' )\n",
    "\n",
    "sound_source_update_button = widgets.Button( description = 'Update' )\n",
    "sound_source_update_button.on_click( on_sound_source_update )\n",
    "\n",
    "def on_sound_source_select( d ) :\n",
    "    if d.type == 'change' and type( d.new ) is str :\n",
    "        sound_source_id = sound_sources_dropdown_menu.options[ d.new ]        \n",
    "        sound_source_pos = va.get_sound_source_position( sound_source_id )\n",
    "        sound_source_input_pos_x.value = sound_source_pos[ 0 ]\n",
    "        sound_source_input_pos_y.value = sound_source_pos[ 1 ]\n",
    "        sound_source_input_pos_z.value = sound_source_pos[ 2 ]\n",
    "        \n",
    "sound_sources_dropdown_menu.observe( on_sound_source_select )\n",
    "\n",
    "sound_source_input_widget_box = widgets.HBox( [ sound_sources_dropdown_menu, sound_source_input_pos_x, sound_source_input_pos_y, sound_source_input_pos_z, sound_source_update_button ] )\n",
    "display( sound_source_input_widget_box )"
   ]
  }
 ],
 "metadata": {
  "kernelspec": {
   "display_name": "Python 3",
   "language": "python",
   "name": "python3"
  },
  "language_info": {
   "codemirror_mode": {
    "name": "ipython",
    "version": 3
   },
   "file_extension": ".py",
   "mimetype": "text/x-python",
   "name": "python",
   "nbconvert_exporter": "python",
   "pygments_lexer": "ipython3",
   "version": "3.6.4"
  }
 },
 "nbformat": 4,
 "nbformat_minor": 2
}
