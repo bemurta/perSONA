{
 "cells": [
  {
   "cell_type": "markdown",
   "metadata": {},
   "source": [
    "# VA simple acoustic scene\n",
    "This is an example notebook how to create a simple acoustic scene in VA using Python."
   ]
  },
  {
   "cell_type": "markdown",
   "metadata": {},
   "source": [
    "#### Prerequisites\n",
    "If VA Python extension is not installed, add the folder manually."
   ]
  },
  {
   "cell_type": "code",
   "execution_count": 1,
   "metadata": {},
   "outputs": [
    {
     "name": "stdout",
     "output_type": "stream",
     "text": [
      "Current working directory: C:\\Users\\berna\\Documents\\Projects\\perSONA\\perSONA\\python\\examples\\jupyter\n",
      "Successfully loaded VA Python extension\n"
     ]
    }
   ],
   "source": [
    "import sys\n",
    "sys.path.append( '../../Lib/site-packages' ) # deploy\n",
    "sys.path.append( '../../dist/Lib/site-packages' ) # dev\n",
    "import os\n",
    "print( 'Current working directory:', os.getcwd() )\n",
    "import va\n",
    "print( 'Successfully loaded VA Python extension')"
   ]
  },
  {
   "cell_type": "code",
   "execution_count": 5,
   "metadata": {},
   "outputs": [
    {
     "ename": "ModuleNotFoundError",
     "evalue": "No module named 'pytta'",
     "output_type": "error",
     "traceback": [
      "\u001b[1;31m---------------------------------------------------------------------------\u001b[0m",
      "\u001b[1;31mModuleNotFoundError\u001b[0m                       Traceback (most recent call last)",
      "\u001b[1;32m<ipython-input-5-91eaba613de2>\u001b[0m in \u001b[0;36m<module>\u001b[1;34m\u001b[0m\n\u001b[1;32m----> 1\u001b[1;33m \u001b[1;32mimport\u001b[0m \u001b[0mpytta\u001b[0m\u001b[1;33m\u001b[0m\u001b[0m\n\u001b[0m\u001b[0;32m      2\u001b[0m \u001b[1;32mimport\u001b[0m \u001b[0mnumpy\u001b[0m \u001b[1;32mas\u001b[0m \u001b[0mnp\u001b[0m\u001b[1;33m\u001b[0m\u001b[0m\n\u001b[0;32m      3\u001b[0m \u001b[1;32mimport\u001b[0m \u001b[0mpandas\u001b[0m \u001b[1;32mas\u001b[0m \u001b[0mpd\u001b[0m\u001b[1;33m\u001b[0m\u001b[0m\n\u001b[0;32m      4\u001b[0m \u001b[1;32mimport\u001b[0m \u001b[0mmatplotlib\u001b[0m\u001b[1;33m.\u001b[0m\u001b[0mpyplot\u001b[0m \u001b[1;32mas\u001b[0m \u001b[0mplt\u001b[0m\u001b[1;33m\u001b[0m\u001b[0m\n",
      "\u001b[1;31mModuleNotFoundError\u001b[0m: No module named 'pytta'"
     ]
    }
   ],
   "source": [
    "import pytta\n",
    "import numpy as np\n",
    "import pandas as pd\n",
    "import matplotlib.pyplot as plt"
   ]
  },
  {
   "cell_type": "markdown",
   "metadata": {},
   "source": [
    "### Connect"
   ]
  },
  {
   "cell_type": "code",
   "execution_count": 3,
   "metadata": {},
   "outputs": [],
   "source": [
    "if not va.connect( 'localhost' ) :\n",
    "    raise 'Could not connect to server on localhost, not running?'"
   ]
  },
  {
   "cell_type": "markdown",
   "metadata": {},
   "source": [
    "Reset VA to clear the scene"
   ]
  },
  {
   "cell_type": "code",
   "execution_count": 4,
   "metadata": {},
   "outputs": [],
   "source": [
    "va.reset()\n",
    "\n"
   ]
  },
  {
   "cell_type": "markdown",
   "metadata": {},
   "source": [
    "Control output gain"
   ]
  },
  {
   "cell_type": "code",
   "execution_count": 19,
   "metadata": {},
   "outputs": [],
   "source": [
    "va.set_output_gain( 0.25 )"
   ]
  },
  {
   "cell_type": "markdown",
   "metadata": {},
   "source": [
    "Add the current working directory and any further relative or absolute directories where you want to put resource files. VA provides search paths where to look for any file. From now on, only use relative paths or macros to paths.\n",
    "> Pathes are relevant on server side, not on a remote client. The files must be available on the computer **where the VA application is running**!"
   ]
  },
  {
   "cell_type": "code",
   "execution_count": 20,
   "metadata": {},
   "outputs": [],
   "source": [
    "va.add_search_path( os.getcwd() );\n",
    "va.add_search_path( 'C:\\dev\\VA\\VACore\\data' );"
   ]
  },
  {
   "cell_type": "markdown",
   "metadata": {},
   "source": [
    "### Signal source\n",
    "Create a signal source from a file and start playback with looping mode"
   ]
  },
  {
   "cell_type": "code",
   "execution_count": 6,
   "metadata": {},
   "outputs": [],
   "source": [
    "signal_source_id = va.create_signal_source_buffer_from_file( '$(DemoSound)' )"
   ]
  },
  {
   "cell_type": "code",
   "execution_count": 7,
   "metadata": {},
   "outputs": [],
   "source": [
    "va.set_signal_source_buffer_playback_action_str( signal_source_id, 'play' )\n",
    "va.set_signal_source_buffer_looping( signal_source_id, False )"
   ]
  },
  {
   "cell_type": "markdown",
   "metadata": {},
   "source": [
    "### Virtual sound source\n",
    "Create a virtual sound source with any name and set a position"
   ]
  },
  {
   "cell_type": "code",
   "execution_count": 30,
   "metadata": {},
   "outputs": [],
   "source": [
    "sound_source_id = va.create_sound_source( 'scene' )\n",
    "va.set_sound_source_position( sound_source_id, ( -2.5, 1.7, -2.1 ) )\n",
    "va.set_sound_source_signal_source( sound_source_id, signal_source_id )"
   ]
  },
  {
   "cell_type": "markdown",
   "metadata": {},
   "source": [
    "### Connect signal and source\n",
    "Connect the signal source to the virtual sound source"
   ]
  },
  {
   "cell_type": "code",
   "execution_count": 31,
   "metadata": {},
   "outputs": [],
   "source": [
    "va.set_sound_source_signal_source( sound_source_id, signal_source_id )"
   ]
  },
  {
   "cell_type": "markdown",
   "metadata": {},
   "source": [
    "### Head-related transfer function / Head-related impulse response\n",
    "Load an HRIR (time domain representation of an HRTF) as a directivity that will be assigned to a sound receiver (aka listener). See [OpenDAFF](http://www.opendaff.org) for more information.\n",
    "> We use a macro `DefaultHRIR` here, that is usually available for a VA core."
   ]
  },
  {
   "cell_type": "code",
   "execution_count": 21,
   "metadata": {},
   "outputs": [],
   "source": [
    "hrir_id = va.create_directivity_from_file( '$(DefaultHRIR)' )"
   ]
  },
  {
   "cell_type": "markdown",
   "metadata": {},
   "source": [
    "### Virtual listener\n",
    "Create a sound receiver with arbitrary name, assign the HRTF/HRIR and set a position."
   ]
  },
  {
   "cell_type": "code",
   "execution_count": 22,
   "metadata": {},
   "outputs": [],
   "source": [
    "listener_id = va.create_sound_receiver( 'Bernardo' )\n",
    "va.set_sound_receiver_position( listener_id, ( 0, 1.7, 0 ) )\n",
    "va.set_sound_receiver_orientation_vu( listener_id, ( 0, 0, -1, ), ( 0, 1, 0 ) ) #  Default view is to -Z (OpenGL)\n",
    "va.set_sound_receiver_directivity( listener_id, hrir_id )"
   ]
  },
  {
   "cell_type": "code",
   "execution_count": 23,
   "metadata": {},
   "outputs": [],
   "source": [
    "va.set_signal_source_buffer_playback_action_str( signal_source_id, 'stop' )"
   ]
  },
  {
   "cell_type": "code",
   "execution_count": 23,
   "metadata": {},
   "outputs": [],
   "source": [
    "import time\n",
    "import numpy as np"
   ]
  },
  {
   "cell_type": "code",
   "execution_count": 25,
   "metadata": {},
   "outputs": [],
   "source": [
    "positions = [1, 2, 3, 4, 5, 6, 7, 8, 9, 10, 11, 12]\n",
    "positions = [1, 2, 3, 4 ,5, 5, 5, 7, 1, 2, 12]\n",
    "for position in positions:\n",
    "    azimuth = position*(360/len(positions))\n",
    "    radius = 1\n",
    "    signal_source_id = va.create_signal_source_buffer_from_file( f'../../../../UFSC_Demos/audio/{position}.wav' )\n",
    "    sound_source_id = va.create_sound_source( 'Numbers' )\n",
    "    va.set_sound_source_position( sound_source_id, ( radius*np.sin(azimuth), 1.7, radius*np.cos(azimuth) ) )\n",
    "    va.set_sound_source_signal_source( sound_source_id, signal_source_id )\n",
    "    va.set_signal_source_buffer_playback_action_str( signal_source_id, 'play' )\n",
    "    time.sleep(0.75)"
   ]
  },
  {
   "cell_type": "code",
   "execution_count": 86,
   "metadata": {},
   "outputs": [],
   "source": [
    "dist     = 2\n",
    "nlegs       = 200\n",
    "Tval        = 15\n",
    "z_start   = -70\n",
    "z_end     = 50\n",
    "\n",
    "signal_source_id = va.create_signal_source_buffer_from_file( f'../../../../UFSC_Demos/audio/ambulance_long.wav' )"
   ]
  },
  {
   "cell_type": "code",
   "execution_count": 88,
   "metadata": {},
   "outputs": [],
   "source": [
    "sound_source_id = va.create_sound_source( 'Ambulance Static' )\n",
    "va.set_sound_source_position( sound_source_id, (dist, 1.7, -70 ) )\n",
    "va.set_sound_source_sound_power(sound_source_id, 0.55)\n",
    "va.set_sound_source_signal_source( sound_source_id, signal_source_id )\n",
    "va.set_signal_source_buffer_playback_action_str( signal_source_id, 'play' )"
   ]
  },
  {
   "cell_type": "code",
   "execution_count": 89,
   "metadata": {},
   "outputs": [],
   "source": [
    "va.set_signal_source_buffer_playback_action_str( signal_source_id, 'stop' )"
   ]
  },
  {
   "cell_type": "code",
   "execution_count": null,
   "metadata": {},
   "outputs": [],
   "source": [
    "va.set_signal_source_buffer_looping( signal_source_id, False )"
   ]
  },
  {
   "cell_type": "code",
   "execution_count": 87,
   "metadata": {},
   "outputs": [
    {
     "name": "stdout",
     "output_type": "stream",
     "text": [
      "here\n"
     ]
    }
   ],
   "source": [
    "sound_source_id = va.create_sound_source( 'Ambulance Moving' )\n",
    "va.set_sound_source_signal_source( sound_source_id, signal_source_id )\n",
    "\n",
    "S1pos_traj = np.linspace(z_start,z_end,nlegs)\n",
    "\n",
    "for position in range(nlegs):\n",
    "    if position ==0: \n",
    "        print('here')\n",
    "        va.set_sound_source_position( sound_source_id, (dist, 1.7, S1pos_traj[0] ) )\n",
    "        time.sleep(1)\n",
    "        va.set_signal_source_buffer_playback_action_str( signal_source_id, 'play' )\n",
    "        va.set_signal_source_buffer_looping( signal_source_id, True )\n",
    "    time.sleep(Tval/nlegs)\n",
    "    va.set_sound_source_position( sound_source_id, (dist, 1.7, S1pos_traj[position] ) )\n",
    "    \n",
    "    if position == nlegs-1:\n",
    "        va.set_signal_source_buffer_playback_action_str( signal_source_id, 'stop' )\n",
    "    "
   ]
  },
  {
   "cell_type": "markdown",
   "metadata": {},
   "source": [
    "### Active listener\n",
    "Set an active listener. This concept is deprecated, but should be used for compatibility until it is removed."
   ]
  },
  {
   "cell_type": "code",
   "execution_count": null,
   "metadata": {},
   "outputs": [],
   "source": [
    "va.set_active_sound_receiver( listener_id )"
   ]
  },
  {
   "cell_type": "markdown",
   "metadata": {},
   "source": [
    "### Disconnect"
   ]
  },
  {
   "cell_type": "code",
   "execution_count": null,
   "metadata": {},
   "outputs": [],
   "source": [
    "va.disconnect();"
   ]
  }
 ],
 "metadata": {
  "kernelspec": {
   "display_name": "Python 3",
   "language": "python",
   "name": "python3"
  },
  "language_info": {
   "codemirror_mode": {
    "name": "ipython",
    "version": 3
   },
   "file_extension": ".py",
   "mimetype": "text/x-python",
   "name": "python",
   "nbconvert_exporter": "python",
   "pygments_lexer": "ipython3",
   "version": "3.6.6"
  }
 },
 "nbformat": 4,
 "nbformat_minor": 2
}
