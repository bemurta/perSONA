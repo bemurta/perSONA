{
 "cells": [
  {
   "cell_type": "markdown",
   "metadata": {},
   "source": [
    "# VA core controller\n",
    "This is an example how to control global VA core functionality"
   ]
  },
  {
   "cell_type": "markdown",
   "metadata": {},
   "source": [
    "### Prerequisites"
   ]
  },
  {
   "cell_type": "code",
   "execution_count": null,
   "metadata": {
    "collapsed": true
   },
   "outputs": [],
   "source": [
    "import sys\n",
    "sys.path.append( '../../Lib/site-packages' )\n",
    "sys.path.append( '../../dist/Lib/site-packages' )\n",
    "import ipywidgets as widgets\n",
    "import va\n",
    "if not va.connect( 'localhost') :\n",
    "    raise 'Could not connect to local VA server'\n",
    "else :\n",
    "    print( 'Successfully connected, server core version is: ' + va.get_version() )"
   ]
  },
  {
   "cell_type": "markdown",
   "metadata": {},
   "source": [
    "## Control"
   ]
  },
  {
   "cell_type": "markdown",
   "metadata": {},
   "source": [
    "### Output"
   ]
  },
  {
   "cell_type": "markdown",
   "metadata": {},
   "source": [
    "#### Mute / unmute\n",
    "You can mute and unmute the entire audio output by using `set_output_muted` and receive the current setting by `is_output_muted`. The setter uses the optional argument `True` or `False` and will mute the output if no argument is passed."
   ]
  },
  {
   "cell_type": "code",
   "execution_count": null,
   "metadata": {
    "collapsed": true
   },
   "outputs": [],
   "source": [
    "mute_output_button = widgets.ToggleButton( description = 'Output muted', value = va.get_output_muted() )\n",
    "\n",
    "def on_mute_button_clicked( b ) :\n",
    "    if b.name == 'value' :\n",
    "        va.set_output_muted( b.new ) # True if toggle button appears 'active'\n",
    "\n",
    "mute_output_button.observe( on_mute_button_clicked )\n",
    "display( mute_output_button )"
   ]
  },
  {
   "cell_type": "markdown",
   "metadata": {},
   "source": [
    "#### Gain\n",
    "The output gain or output volume of VA can be controlled by `set_output_gain` and received by `get_output_gain`. Gains or volumes are defined as a factore between 0 and 1. The same functions also exist for the audio inputs of the sound device."
   ]
  },
  {
   "cell_type": "code",
   "execution_count": null,
   "metadata": {
    "collapsed": true
   },
   "outputs": [],
   "source": [
    "output_gain_slider = widgets.FloatSlider( \n",
    "    value = va.get_output_gain(),\n",
    "    description = 'Output gain:',\n",
    "    min = 0.0,\n",
    "    max = 1.0,\n",
    "    step = 0.1,\n",
    "    readout = True,\n",
    "    readout_format = '.1f' )\n",
    "\n",
    "def on_output_gain_changed( s ) :\n",
    "    if s.name == 'value' :\n",
    "        va.set_output_gain( s.new )\n",
    "\n",
    "output_gain_slider.observe( on_output_gain_changed )\n",
    "display( output_gain_slider )"
   ]
  },
  {
   "cell_type": "markdown",
   "metadata": {},
   "source": [
    "#### Global auralization mode\n",
    "\n",
    "The auralization mode is a bundle of flags to control the acoustic phenomena that should be considered during audio rendering. It's purpose is to demonstrate the audibility of certain aspects, like sound source directivity.\n",
    "Auralization mode can be set globally, but also individually for rendering modules, sources and receivers."
   ]
  },
  {
   "cell_type": "code",
   "execution_count": null,
   "metadata": {
    "collapsed": true
   },
   "outputs": [],
   "source": [
    "global_am = va.get_global_auralization_mode()\n",
    "print( global_am )\n",
    "global_am_long = va.get_global_auralization_mode( False )\n",
    "print( global_am_long )"
   ]
  },
  {
   "cell_type": "markdown",
   "metadata": {},
   "source": [
    "### Macros\n",
    "\n",
    "Macros can be defined to make your life easier. Don't mess around with file pathes too much, use macros. Don't rename output file names for recording and other exported information, use macros. You can test your macros using th method `substitute_macro` (see below), but you don't have to do it yourself. VA will always substitute macros where possible."
   ]
  },
  {
   "cell_type": "code",
   "execution_count": null,
   "metadata": {
    "collapsed": true
   },
   "outputs": [],
   "source": [
    "print( '$(DefaultHRIR): ' + va.substitute_macro( '$(DefaultHRIR)' ) )\n",
    "print( '$(ProjectName): ' + va.substitute_macro( '$(ProjectName)' ) )\n",
    "print( '$(data): ' + va.substitute_macro( '$(data)' ) )\n",
    "print( '$(big_data_dir): ' + va.substitute_macro( '$(big_data_dir)' ) )\n",
    "print( '$(conf): ' + va.substitute_macro( '$(conf)' ) )"
   ]
  },
  {
   "cell_type": "markdown",
   "metadata": {},
   "source": [
    "### Paths\n",
    "\n",
    "Using search path is encouraged, as it makes it easier to move from one PC to another. You can get the available search paths and also add new search paths. Paths are always bound to the server PC."
   ]
  },
  {
   "cell_type": "code",
   "execution_count": null,
   "metadata": {
    "collapsed": true
   },
   "outputs": [],
   "source": [
    "print( va.get_search_paths() )\n",
    "\n",
    "import os\n",
    "current_working_dir = os.getcwd()\n",
    "print( \"client working directory: \" + current_working_dir )\n",
    "va.add_search_path( current_working_dir ); # only makes sense if client and server are running on same PC"
   ]
  },
  {
   "cell_type": "markdown",
   "metadata": {},
   "source": [
    "### Reset\n",
    "Use `reset` to reset the entire scene."
   ]
  },
  {
   "cell_type": "code",
   "execution_count": null,
   "metadata": {
    "collapsed": true
   },
   "outputs": [],
   "source": [
    "reset_button = widgets.Button( description = 'Reset VA server' )\n",
    "\n",
    "def on_reset_button_clicked( b ) :\n",
    "    va.reset()\n",
    "    \n",
    "reset_button.on_click( on_reset_button_clicked )\n",
    "display( reset_button )"
   ]
  },
  {
   "cell_type": "markdown",
   "metadata": {},
   "source": [
    "## Modules\n",
    "You can interact with any registered VA module using a magic struct. In Python, this struct is represented by a (nested) dictionary, that is translated to a VAStruct. This struct can be used to call modules and receive information in return. It is used to change any setting in a registered module. This way, no new interface methods for prototyping have to be added during development and testing."
   ]
  },
  {
   "cell_type": "code",
   "execution_count": null,
   "metadata": {
    "collapsed": true
   },
   "outputs": [],
   "source": [
    "allmods = va.get_modules()\n",
    "\n",
    "modnames = list()\n",
    "for mod in allmods[:] :\n",
    "    modnames.append( mod[\"name\"] )\n",
    "mods_dropdown_menu = widgets.Dropdown( options=modnames )\n",
    "\n",
    "mod_call_button = widgets.Button( description = 'Call' )\n",
    "mod_widget_box = widgets.HBox( [ mods_dropdown_menu, mod_call_button ] )\n",
    "\n",
    "def on_mod_call( b ) :\n",
    "    mod = allmods[ mods_dropdown_menu.index ]\n",
    "    print( 'Calling ' + mod[\"name\"] )\n",
    "    modnames.append( mod[\"name\"] )\n",
    "    try :\n",
    "        va.call_module( mod[\"name\"], { 'help': True } )\n",
    "    except :\n",
    "        print( 'Module returned an exception, could not get help' )\n",
    "        \n",
    "mod_call_button.on_click( on_mod_call )\n",
    "\n",
    "display( mod_widget_box )"
   ]
  },
  {
   "cell_type": "markdown",
   "metadata": {},
   "source": [
    "### Rendering modules\n",
    "Rendering modules are special modules that can also be listed using `get_rendering_modules`. They can be muted/unmuted individually and also have an own output gain control. Additionally all rendering modules have specialized parameter setter and getter."
   ]
  },
  {
   "cell_type": "code",
   "execution_count": null,
   "metadata": {
    "collapsed": true
   },
   "outputs": [],
   "source": [
    "allrendmods = va.get_rendering_modules();\n",
    "\n",
    "\n",
    "# Dropdown menu\n",
    "rendmodnames = list()\n",
    "for mod in allrendmods[:] :\n",
    "    rendmodnames.append( mod[\"id\"] )\n",
    "rendmods_dropdown_menu = widgets.Dropdown( options=rendmodnames )\n",
    "\n",
    "\n",
    "# Mute toggle button\n",
    "rendmod_mute_button = widgets.ToggleButton( description = 'Mute' )\n",
    "\n",
    "def on_rendmod_mute_button_clicked( b ) :\n",
    "    rendmod = allrendmods[ rendmods_dropdown_menu.index ]\n",
    "    if b.name == 'value' :\n",
    "        va.set_rendering_module_muted( mod[\"id\"], b.new )\n",
    "        \n",
    "rendmod_mute_button.observe( on_rendmod_mute_button_clicked )\n",
    "\n",
    "\n",
    "# Gain slider\n",
    "rendmod_gain_slider = widgets.FloatSlider( \n",
    "    value = 1.0,\n",
    "    description = 'Gain:',\n",
    "    min = 0.0,\n",
    "    max = 1.0,\n",
    "    step = 0.1,\n",
    "    readout = True,\n",
    "    readout_format = '.1f' )\n",
    "\n",
    "def on_rendmod_gain_changed( s ) :\n",
    "    rendmod = allrendmods[ rendmods_dropdown_menu.index ]\n",
    "    if s.name == 'value' :\n",
    "        va.set_rendering_module_gain( rendmod[\"id\"], s.new )\n",
    "\n",
    "rendmod_gain_slider.observe( on_rendmod_gain_changed )\n",
    "\n",
    "\n",
    "# Parameter getter\n",
    "rendmod_button_params = widgets.Button( description = 'Parameters' )\n",
    "\n",
    "def on_rendmod_parameter( b ) :\n",
    "    rendmod = allrendmods[ rendmods_dropdown_menu.index ]\n",
    "    print( va.get_rendering_module_parameters( rendmod[\"id\"] ) )\n",
    "    \n",
    "rendmod_button_params.on_click( on_rendmod_parameter )\n",
    "\n",
    "\n",
    "# Horizontal box with widgets\n",
    "rendmod_widget_box = widgets.HBox( [ rendmods_dropdown_menu, rendmod_mute_button, rendmod_gain_slider, rendmod_button_params ] )\n",
    "display( rendmod_widget_box )"
   ]
  },
  {
   "cell_type": "markdown",
   "metadata": {},
   "source": [
    "### Reproduction modules\n",
    "Reproduction modules are special modules that can also be listed using `get_reproduction_modules`. They can be muted/unmuted individually and also have an own output gain control. Additionally all reproduction modules have specialized parameter setter and getter."
   ]
  },
  {
   "cell_type": "code",
   "execution_count": null,
   "metadata": {
    "collapsed": true
   },
   "outputs": [],
   "source": [
    "allrepmods = va.get_reproduction_modules();\n",
    "\n",
    "\n",
    "# Dropdown menu\n",
    "repmodnames = list()\n",
    "for mod in allrepmods[:] :\n",
    "    repmodnames.append( mod[\"id\"] )\n",
    "repmods_dropdown_menu = widgets.Dropdown( options=repmodnames )\n",
    "\n",
    "\n",
    "# Mute toggle button\n",
    "repmod_mute_button = widgets.ToggleButton( description = 'Mute' )\n",
    "\n",
    "def on_repmod_mute_button_clicked( b ) :\n",
    "    repmod = allrepmods[ repmods_dropdown_menu.index ]\n",
    "    if b.name == 'value' :\n",
    "        va.set_reproduction_module_muted( mod[\"id\"], b.new )\n",
    "        \n",
    "repmod_mute_button.observe( on_repmod_mute_button_clicked )\n",
    "\n",
    "\n",
    "# Gain slider\n",
    "repmod_gain_slider = widgets.FloatSlider( \n",
    "    value = 1.0,\n",
    "    description = 'Gain:',\n",
    "    min = 0.0,\n",
    "    max = 1.0,\n",
    "    step = 0.1,\n",
    "    readout = True,\n",
    "    readout_format = '.1f' )\n",
    "\n",
    "def on_repmod_gain_changed( s ) :\n",
    "    repmod = allrepmods[ repmods_dropdown_menu.index ]\n",
    "    if s.name == 'value' :\n",
    "        va.set_reproduction_module_gain( repmod[\"id\"], s.new )\n",
    "\n",
    "repmod_gain_slider.observe( on_repmod_gain_changed )\n",
    "\n",
    "\n",
    "# Parameter getter\n",
    "repmod_button_params = widgets.Button( description = 'Parameters' )\n",
    "\n",
    "def on_repmod_parameter( b ) :\n",
    "    repmod = allrepmods[ repmods_dropdown_menu.index ]\n",
    "    print( va.get_reproduction_module_parameters( repmod[\"id\"] ) )\n",
    "    \n",
    "repmod_button_params.on_click( on_repmod_parameter )\n",
    "\n",
    "\n",
    "# Horizontal box with widgets\n",
    "repmod_widget_box = widgets.HBox( [ repmods_dropdown_menu, repmod_mute_button, repmod_gain_slider, repmod_button_params ] )\n",
    "display( repmod_widget_box )"
   ]
  },
  {
   "cell_type": "code",
   "execution_count": null,
   "metadata": {
    "collapsed": true
   },
   "outputs": [],
   "source": []
  }
 ],
 "metadata": {
  "kernelspec": {
   "display_name": "Python 3",
   "language": "python",
   "name": "python3"
  },
  "language_info": {
   "codemirror_mode": {
    "name": "ipython",
    "version": 3
   },
   "file_extension": ".py",
   "mimetype": "text/x-python",
   "name": "python",
   "nbconvert_exporter": "python",
   "pygments_lexer": "ipython3",
   "version": "3.6.2"
  }
 },
 "nbformat": 4,
 "nbformat_minor": 2
}
