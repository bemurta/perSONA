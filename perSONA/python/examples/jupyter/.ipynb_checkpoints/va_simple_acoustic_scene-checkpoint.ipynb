{
 "cells": [
  {
   "cell_type": "markdown",
   "metadata": {},
   "source": [
    "# VA simple acoustic scene\n",
    "This is an example notebook how to create a simple acoustic scene in VA using Python."
   ]
  },
  {
   "cell_type": "markdown",
   "metadata": {},
   "source": [
    "#### Prerequisites\n",
    "If VA Python extension is not installed, add the folder manually."
   ]
  },
  {
   "cell_type": "code",
   "execution_count": 1,
   "metadata": {},
   "outputs": [
    {
     "name": "stdout",
     "output_type": "stream",
     "text": [
      "Current working directory: C:\\Users\\bernardo.murta\\Documents\\projects\\win32-x64.vc14\\python\\examples\\jupyter\n",
      "Successfully loaded VA Python extension\n"
     ]
    }
   ],
   "source": [
    "import sys\n",
    "sys.path.append( '../../Lib/site-packages' ) # deploy\n",
    "sys.path.append( '../../dist/Lib/site-packages' ) # dev\n",
    "import os\n",
    "print( 'Current working directory:', os.getcwd() )\n",
    "import va\n",
    "print( 'Successfully loaded VA Python extension')"
   ]
  },
  {
   "cell_type": "markdown",
   "metadata": {},
   "source": [
    "### Connect"
   ]
  },
  {
   "cell_type": "code",
   "execution_count": null,
   "metadata": {},
   "outputs": [],
   "source": [
    "if not va.connect( 'localhost' ) :\n",
    "    raise 'Could not connect to server on localhost, not running?'"
   ]
  },
  {
   "cell_type": "markdown",
   "metadata": {},
   "source": [
    "Reset VA to clear the scene"
   ]
  },
  {
   "cell_type": "code",
   "execution_count": null,
   "metadata": {},
   "outputs": [],
   "source": [
    "va.reset()"
   ]
  },
  {
   "cell_type": "markdown",
   "metadata": {},
   "source": [
    "Control output gain"
   ]
  },
  {
   "cell_type": "code",
   "execution_count": null,
   "metadata": {},
   "outputs": [],
   "source": [
    "va.set_output_gain( 0.25 )"
   ]
  },
  {
   "cell_type": "markdown",
   "metadata": {},
   "source": [
    "Add the current working directory and any further relative or absolute directories where you want to put resource files. VA provides search paths where to look for any file. From now on, only use relative paths or macros to paths.\n",
    "> Pathes are relevant on server side, not on a remote client. The files must be available on the computer **where the VA application is running**!"
   ]
  },
  {
   "cell_type": "code",
   "execution_count": null,
   "metadata": {},
   "outputs": [],
   "source": [
    "va.add_search_path( os.getcwd() );\n",
    "va.add_search_path( 'C:\\dev\\VA\\VACore\\data' );"
   ]
  },
  {
   "cell_type": "markdown",
   "metadata": {},
   "source": [
    "### Signal source\n",
    "Create a signal source from a file and start playback with looping mode"
   ]
  },
  {
   "cell_type": "code",
   "execution_count": null,
   "metadata": {},
   "outputs": [],
   "source": [
    "signal_source_id = va.create_signal_source_buffer_from_file( '$(DemoSound)' )\n",
    "va.set_signal_source_buffer_playback_action_str( signal_source_id, 'play' )\n",
    "va.set_signal_source_buffer_looping( signal_source_id, True )"
   ]
  },
  {
   "cell_type": "markdown",
   "metadata": {},
   "source": [
    "### Virtual sound source\n",
    "Create a virtual sound source with any name and set a position"
   ]
  },
  {
   "cell_type": "code",
   "execution_count": null,
   "metadata": {},
   "outputs": [],
   "source": [
    "sound_source_id = va.create_sound_source( 'PySoundSource' )\n",
    "va.set_sound_source_position( sound_source_id, ( -1.5, 1.7, -1.1 ) )"
   ]
  },
  {
   "cell_type": "markdown",
   "metadata": {},
   "source": [
    "### Connect signal and source\n",
    "Connect the signal source to the virtual sound source"
   ]
  },
  {
   "cell_type": "code",
   "execution_count": null,
   "metadata": {},
   "outputs": [],
   "source": [
    "va.set_sound_source_signal_source( sound_source_id, signal_source_id )"
   ]
  },
  {
   "cell_type": "markdown",
   "metadata": {},
   "source": [
    "### Head-related transfer function / Head-related impulse response\n",
    "Load an HRIR (time domain representation of an HRTF) as a directivity that will be assigned to a sound receiver (aka listener). See [OpenDAFF](http://www.opendaff.org) for more information.\n",
    "> We use a macro `DefaultHRIR` here, that is usually available for a VA core."
   ]
  },
  {
   "cell_type": "code",
   "execution_count": null,
   "metadata": {},
   "outputs": [],
   "source": [
    "hrir_id = va.create_directivity_from_file( '$(DefaultHRIR)' )"
   ]
  },
  {
   "cell_type": "markdown",
   "metadata": {},
   "source": [
    "### Virtual listener\n",
    "Create a sound receiver with arbitrary name, assign the HRTF/HRIR and set a position."
   ]
  },
  {
   "cell_type": "code",
   "execution_count": null,
   "metadata": {},
   "outputs": [],
   "source": [
    "listener_id = va.create_sound_receiver( 'PyListener' )\n",
    "va.set_sound_receiver_position( listener_id, ( 0, 1.7, 0 ) )\n",
    "va.set_sound_receiver_orientation_vu( listener_id, ( 0, 0, -1, ), ( 0, 1, 0 ) ) #  Default view is to -Z (OpenGL)\n",
    "va.set_sound_receiver_directivity( listener_id, hrir_id )"
   ]
  },
  {
   "cell_type": "markdown",
   "metadata": {},
   "source": [
    "### Active listener\n",
    "Set an active listener. This concept is deprecated, but should be used for compatibility until it is removed."
   ]
  },
  {
   "cell_type": "code",
   "execution_count": null,
   "metadata": {},
   "outputs": [],
   "source": [
    "va.set_active_sound_receiver( listener_id )"
   ]
  },
  {
   "cell_type": "markdown",
   "metadata": {},
   "source": [
    "### Disconnect"
   ]
  },
  {
   "cell_type": "code",
   "execution_count": null,
   "metadata": {},
   "outputs": [],
   "source": [
    "va.disconnect();"
   ]
  }
 ],
 "metadata": {
  "kernelspec": {
   "display_name": "Python 3",
   "language": "python",
   "name": "python3"
  },
  "language_info": {
   "codemirror_mode": {
    "name": "ipython",
    "version": 3
   },
   "file_extension": ".py",
   "mimetype": "text/x-python",
   "name": "python",
   "nbconvert_exporter": "python",
   "pygments_lexer": "ipython3",
   "version": "3.6.4"
  }
 },
 "nbformat": 4,
 "nbformat_minor": 2
}
