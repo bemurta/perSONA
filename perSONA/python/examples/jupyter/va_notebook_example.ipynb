{
 "cells": [
  {
   "cell_type": "markdown",
   "metadata": {},
   "source": [
    "# VA notebook test\n",
    "\n",
    "This is a simple test program that demonstrates the use of the VA Python binding within a jupyter notebook environment.\n",
    "\n",
    "## Before we start\n",
    "Before we start scripting, let's make VA available for us. If it is not installed and available from everywhere, this is how you can add the `va` module folder:"
   ]
  },
  {
   "cell_type": "code",
   "execution_count": 4,
   "metadata": {
    "scrolled": false
   },
   "outputs": [],
   "source": [
    "import sys\n",
    "sys.path.append( \"../../dist/Lib/site-packages\" ) # build\n",
    "sys.path.append( \"../../Lib/site-packages\" ) # deploy"
   ]
  },
  {
   "cell_type": "markdown",
   "metadata": {},
   "source": [
    "## Start\n",
    "\n",
    "We start by making va available for our script"
   ]
  },
  {
   "cell_type": "code",
   "execution_count": 5,
   "metadata": {},
   "outputs": [],
   "source": [
    "import va"
   ]
  },
  {
   "cell_type": "markdown",
   "metadata": {},
   "source": [
    "Ok. Now let's try to connect to the VA server that should be running on the same computer where this jupyter notebook is running. "
   ]
  },
  {
   "cell_type": "markdown",
   "metadata": {},
   "source": [
    "We start by finding out where we are currently working and list the files available, i.e. to identify files that can be used as HRIR, audio file or directivity."
   ]
  },
  {
   "cell_type": "code",
   "execution_count": 6,
   "metadata": {},
   "outputs": [],
   "source": [
    "connection_status = va.connect()"
   ]
  },
  {
   "cell_type": "markdown",
   "metadata": {},
   "source": [
    "We can check the connection by the following line"
   ]
  },
  {
   "cell_type": "code",
   "execution_count": 7,
   "metadata": {},
   "outputs": [
    {
     "name": "stdout",
     "output_type": "stream",
     "text": [
      "VA connection ready!\n"
     ]
    }
   ],
   "source": [
    "connected = va.is_connected()\n",
    "if connected :\n",
    "    print( \"VA connection ready!\" )\n",
    "else :\n",
    "    print( \"Something went wrong.\" )"
   ]
  },
  {
   "cell_type": "markdown",
   "metadata": {},
   "source": [
    "... and also use different server names and ports"
   ]
  },
  {
   "cell_type": "code",
   "execution_count": 8,
   "metadata": {},
   "outputs": [],
   "source": [
    "if not connected :\n",
    "    va.connect( \"localhost\", 12340 ) # these are the default arguments"
   ]
  },
  {
   "cell_type": "code",
   "execution_count": 9,
   "metadata": {},
   "outputs": [
    {
     "name": "stdout",
     "output_type": "stream",
     "text": [
      "working directory: C:\\Users\\bernardo.murta\\Documents\\projects\\win32-x64.vc14\\python\\examples\\jupyter\n"
     ]
    }
   ],
   "source": [
    "import os\n",
    "current_working_dir = os.getcwd()\n",
    "print( \"working directory: \" + current_working_dir )"
   ]
  },
  {
   "cell_type": "markdown",
   "metadata": {},
   "source": [
    "Now lets add this folder to VA. This means that VA can find files that reside in this location. All you have to do is use a file name or a relative path from this base path. You can add as much folders as you like."
   ]
  },
  {
   "cell_type": "code",
   "execution_count": 10,
   "metadata": {},
   "outputs": [
    {
     "data": {
      "text/plain": [
       "True"
      ]
     },
     "execution_count": 10,
     "metadata": {},
     "output_type": "execute_result"
    }
   ],
   "source": [
    "va.add_search_path( current_working_dir )"
   ]
  },
  {
   "cell_type": "code",
   "execution_count": 11,
   "metadata": {},
   "outputs": [
    {
     "name": "stdout",
     "output_type": "stream",
     "text": [
      "[{'index': 0, 'name': 'VACore', 'description': 'VA core module'}, {'index': 1, 'name': 'BinauralFreeField:MyBinauralFreeField', 'description': ''}]\n"
     ]
    }
   ],
   "source": [
    "vamods = va.get_modules()\n",
    "print( vamods )"
   ]
  },
  {
   "cell_type": "code",
   "execution_count": 12,
   "metadata": {},
   "outputs": [
    {
     "name": "stdout",
     "output_type": "stream",
     "text": [
      "{'inputedevices': {'MyLineIn': {'channels': {'0': 1}, 'datafilename': '', 'description': 'Table microphone in front of user using line-in', 'identifier': 'MyLineIn', 'numchannels': 1, 'orientation': {'w': 0.7071067690849304, 'x': -0.3535533845424652, 'y': -0.0, 'z': 0.0}, 'position': {'x': 0.0, 'y': -0.30000001192092896, 'z': 0.20000000298023224}, 'type': 'MIC'}}, 'outputdevices': {'MyHP': {'channels': {'0': 1, '1': 2}, 'datafilename': '', 'description': 'Headphone hardware device (two-channels)', 'identifier': 'MyHP', 'numchannels': 2, 'orientation': {'w': 0.7071067690849304, 'x': -0.3535533845424652, 'y': -0.0, 'z': 0.0}, 'position': {'x': 0.0, 'y': 0.0, 'z': 0.0}, 'type': 'HP'}, 'MyLSLeft': {'channels': {'0': 1}, 'datafilename': '', 'description': 'Loudspeaker hardware device', 'identifier': 'MyLSLeft', 'numchannels': 1, 'orientation': {'w': 0.7071067690849304, 'x': -0.3535533845424652, 'y': -0.0, 'z': 0.0}, 'position': {'x': -0.5, 'y': 0.20000000298023224, 'z': -0.4000000059604645}, 'type': 'LS'}, 'MyLSRight': {'channels': {'0': 2}, 'datafilename': '', 'description': 'Loudspeaker hardware device', 'identifier': 'MyLSRight', 'numchannels': 1, 'orientation': {'w': 0.7071067690849304, 'x': -0.3535533845424652, 'y': -0.0, 'z': 0.0}, 'position': {'x': 0.5, 'y': 0.20000000298023224, 'z': -0.4000000059604645}, 'type': 'LS'}}}\n"
     ]
    }
   ],
   "source": [
    "hw = va.get_hardware_configuration()\n",
    "print( hw )"
   ]
  },
  {
   "cell_type": "code",
   "execution_count": 13,
   "metadata": {},
   "outputs": [
    {
     "name": "stdout",
     "output_type": "stream",
     "text": [
      "{'Audio driver': {'BufferSize': 'AUTO', 'Device': 'default', 'Driver': 'Portaudio', 'OutputChannels': 'AUTO', 'RecordInputBaseFolder': 'recordings/$(ProjectName)/device', 'RecordInputEnabled': False, 'RecordInputFileName': 'device_in.wav', 'RecordOutputBaseFolder': 'recordings/$(ProjectName)/device', 'RecordOutputEnabled': False, 'RecordOutputFileName': 'device_out.wav', 'Samplerate': 44100}, 'Calibration': {'DefaultAmplitudeCalibrationMode': '94dB', 'DefaultDistance': 2.0, 'DefaultMinimumDistance': 0.25}, 'Debug': {'LogLevel': 3, 'TriggerUpdateMilliseconds': 100}, 'HomogeneousMedium': {'DefaultRelativeHumidity': '20.0 # [Percent]', 'DefaultShiftSpeed': '0.0, 0.0, 0.0 # 3D vector in m/s', 'DefaultSoundSpeed': '344.0 # m/s', 'DefaultStaticPressure': '101125.0 # [Pa]', 'DefaultTemperature': '20.0 # [Degree centigrade]'}, 'Input:MyDesktopMike': {'Description': 'Generic desktop microphone, i.e. from WebCam or Line-In', 'Devices': 'MyLineIn'}, 'InputDevice:MyLineIn': {'Channels': 1, 'Description': 'Table microphone in front of user using line-in', 'Position': '0, -0.3, 0.2', 'Type': 'MIC'}, 'Macros': {'DefaultHRIR': 'ITA_Artificial_Head_5x5_44kHz_128.v17.ir.daff', 'DemoSound': 'WelcomeToVA.wav', 'HumanDir': 'Singer.v17.ms.daff', 'ProjectName': 'MyVirtualAcousticsProject', 'Trumpet': 'Trumpet1.v17.ms.daff'}, 'Output:MyDesktopHP': {'Description': 'Desktop user with headphones', 'Devices': 'MyHP'}, 'Output:MyDesktopLS': {'Description': 'Desktop user with loudspeaker monitors', 'Devices': 'MyLSLeft, MyLSRight'}, 'OutputDevice:MyHP': {'Channels': '1,2', 'Description': 'Headphone hardware device (two-channels)', 'Type': 'HP'}, 'OutputDevice:MyLSLeft': {'Channels': 1, 'Description': 'Loudspeaker hardware device', 'Position': '-0.5, 0.2, -0.4', 'Type': 'LS'}, 'OutputDevice:MyLSRight': {'Channels': 2, 'Description': 'Loudspeaker hardware device', 'Position': '0.5, 0.2, -0.4', 'Type': 'LS'}, 'Paths': {'big_data_dir': '', 'conf_dir': 'conf', 'conf_dir_dev': 'D:/Users/stienen/dev/VA/VACore/conf', 'data_dir': 'data', 'data_dir_dev': 'D:/Users/stienen/dev/VA/VACore/data', 'InsideSceneData': '', 'raven_data': '', 'voices_dir': 'data/Voices'}, 'Renderer:MyBinauralFreeField': {'Class': 'BinauralFreeField', 'Enabled': True, 'HRIRFilterLength': 256, 'MotionModelLogEstimatedOutputListener': False, 'MotionModelLogEstimatedOutputSources': False, 'MotionModelLogInputListener': False, 'MotionModelLogInputSources': False, 'MotionModelNumHistoryKeys': 10000, 'MotionModelWindowDelay': 0.1, 'MotionModelWindowSize': 0.1, 'OutputDetectorEnabled': False, 'RecordOutputBaseFolder': 'recordings/$(ProjectName)/renderer/MyBinauralFreeField', 'RecordOutputEnabled': False, 'RecordOutputFileName': 'renderer_out.wav', 'Reproductions': 'MyTalkthroughHeadphones', 'SwitchingAlgorithm': 'linear'}, 'Reproduction:MyTalkthroughHeadphones': {'Class': 'Talkthrough', 'Enabled': True, 'InputDetectorEnabled': False, 'Name': 'Generic talkthrough to output group', 'OutputDetectorEnabled': False, 'Outputs': 'MyDesktopHP', 'RecordInputBaseFolder': 'recordings/$(ProjectName)/reproduction/MyTalkthroughHeadphones', 'RecordInputEnabled': False, 'RecordInputFileName': 'reproduction_in.wav', 'RecordOutputBaseFolder': 'recordings/$(ProjectName)/reproduction/MyTalkthroughHeadphones', 'RecordOutputEnabled': False, 'RecordOutputFileName': 'reproduction_out.wav'}, 'Setup': {}}\n"
     ]
    }
   ],
   "source": [
    "core_conf = va.get_core_configuration()\n",
    "print( core_conf )"
   ]
  }
 ],
 "metadata": {
  "kernelspec": {
   "display_name": "Python 3",
   "language": "python",
   "name": "python3"
  },
  "language_info": {
   "codemirror_mode": {
    "name": "ipython",
    "version": 3
   },
   "file_extension": ".py",
   "mimetype": "text/x-python",
   "name": "python",
   "nbconvert_exporter": "python",
   "pygments_lexer": "ipython3",
   "version": "3.6.4"
  }
 },
 "nbformat": 4,
 "nbformat_minor": 2
}
